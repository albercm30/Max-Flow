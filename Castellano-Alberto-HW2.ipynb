{
 "cells": [
  {
   "cell_type": "markdown",
   "id": "963db509-dcbd-4c29-b688-bb938c7154d4",
   "metadata": {},
   "source": [
    "# HOMEWORK 2 - ALBERTO CASTELLANO MACÍAS"
   ]
  },
  {
   "cell_type": "markdown",
   "id": "fc988dec-6c38-42fe-8e29-c8f350f84788",
   "metadata": {},
   "source": [
    "## 1. STATEMENT - NETWORK PROBLEM"
   ]
  },
  {
   "cell_type": "markdown",
   "id": "ca035d8e-7bd3-48c8-a8b8-be1df797772e",
   "metadata": {},
   "source": [
    "During the COVID-19 pandemic, Spain received millions of vaccine dosis in order to stop the spreading of this disease.\n",
    "\n",
    "Therefore, as it was an urgent situation, the country had to transport the maximum amount of vaccines throughout the country so that all the population could be vaccinated as fast as possible.\n",
    "\n",
    "The problem I propose takes a specific case in which the authorities wanted to transport the maximum amount of vaccines from the capital, Madrid, to the second largest city in the country, Barcelona. Of course, they wanted to do this in the least possible amount of time.\n",
    "\n",
    "However, due to the capacity of the roads in our country, only a certain amount of trucks could circulate every hour through  each road between some Spanish cities. \n",
    "\n",
    "As a result, we want to find out the **maximum flow of trucks** that can circulate through every road in order to **carry the largest amount of vaccines** from Madrid to Barcelona."
   ]
  },
  {
   "cell_type": "code",
   "execution_count": 1,
   "id": "aa5cf5bb-7176-45ba-843d-aa5749b8e9ac",
   "metadata": {},
   "outputs": [
    {
     "data": {
      "text/html": [
       "<img src=\"https://www.europamundo.com/img/maps/euros/22685.jpg\" width=\"400\" height=\"400\"/>"
      ],
      "text/plain": [
       "<IPython.core.display.Image object>"
      ]
     },
     "execution_count": 1,
     "metadata": {},
     "output_type": "execute_result"
    }
   ],
   "source": [
    "# import image module\n",
    "from IPython.display import Image\n",
    "  \n",
    "# get the image\n",
    "Image(url=\"https://www.europamundo.com/img/maps/euros/22685.jpg\", width=400, height=400)"
   ]
  },
  {
   "cell_type": "markdown",
   "id": "d845a3bf-7d76-4150-8d67-591abe9acea3",
   "metadata": {},
   "source": [
    "### Sets"
   ]
  },
  {
   "cell_type": "markdown",
   "id": "8dc47853-0340-422d-ac2d-b161e1c7099e",
   "metadata": {},
   "source": [
    "**N** = cities in network\n",
    "\n",
    "**A** = network routes connecting cities"
   ]
  },
  {
   "cell_type": "markdown",
   "id": "c52929a6-64b9-477a-8075-534f7b4f8d02",
   "metadata": {},
   "source": [
    "### Parameters"
   ]
  },
  {
   "cell_type": "markdown",
   "id": "bec41f10-eecc-4847-ab26-79348bbf0089",
   "metadata": {},
   "source": [
    "**source** = source node which in this case is Madrid\n",
    "\n",
    "**sink** = sink node which in this case is Barcelona\n",
    "\n",
    "**capacity** = amount of trucks that can go through each road every hour"
   ]
  },
  {
   "cell_type": "markdown",
   "id": "bca7dbc1-f822-41f7-b040-77be76cc85c7",
   "metadata": {},
   "source": [
    "### Variables"
   ]
  },
  {
   "cell_type": "markdown",
   "id": "f176c621-e6f7-47e9-8b07-484b0016fc67",
   "metadata": {},
   "source": [
    "$x_{i,j}$ = every route between cities"
   ]
  },
  {
   "cell_type": "markdown",
   "id": "a4acd31d-7d12-4bf2-8968-99b6fd4d348a",
   "metadata": {},
   "source": [
    "### Objective"
   ]
  },
  {
   "cell_type": "markdown",
   "id": "3a93a52b-cc46-4c38-bf49-23549427d077",
   "metadata": {},
   "source": [
    "The objective function will maximize the flow into the sink node, in other words, determine the largest amount of trucks that can circulate through each road to reach Barcelona."
   ]
  },
  {
   "cell_type": "markdown",
   "id": "da6cadbe-dcdf-4593-b315-c3a5d4da064b",
   "metadata": {},
   "source": [
    "### Constraints"
   ]
  },
  {
   "cell_type": "markdown",
   "id": "0d5def72-9b56-4215-8af1-9ec3050ac662",
   "metadata": {},
   "source": [
    "1. The flow into a node must equal the flow out of that node, so it is balanced (total_flow_rule)\n",
    "2. There is a capacity flow on each route that cannot be surpassed (upper_limit)"
   ]
  },
  {
   "cell_type": "markdown",
   "id": "9946e3d9-adf6-435b-a764-2652865219cf",
   "metadata": {},
   "source": [
    "## 2. Formulating the problem"
   ]
  },
  {
   "cell_type": "markdown",
   "id": "fb8e5a3f-6eee-4aba-8548-ec2dc1fd2a8d",
   "metadata": {},
   "source": [
    "### Data"
   ]
  },
  {
   "cell_type": "code",
   "execution_count": 2,
   "id": "26ac6e7e-f218-449b-957f-91d6ec8b42c3",
   "metadata": {},
   "outputs": [
    {
     "name": "stdout",
     "output_type": "stream",
     "text": [
      "Overwriting hw2.dat\n"
     ]
    }
   ],
   "source": [
    "%%writefile hw2.dat\n",
    "set N := madrid cuenca zaragoza logrono valencia castellon teruel lerida huesca pamplona bilbao tarragona sansebastian barcelona;\n",
    "set A := (madrid,cuenca) (madrid,zaragoza) (madrid,logrono) (cuenca,valencia) (cuenca,castellon) (cuenca,teruel) (zaragoza,lerida) (zaragoza,huesca) (zaragoza,barcelona) (logrono,pamplona) (logrono,bilbao) (valencia,castellon) (castellon,tarragona) (teruel,tarragona) (teruel,zaragoza) (lerida,barcelona) (huesca,lerida) (huesca,barcelona) (pamplona,huesca) (bilbao,pamplona) (bilbao,sansebastian) (tarragona,lerida) (tarragona,barcelona) (sansebastian,pamplona);\n",
    "    \n",
    "param source := madrid;\n",
    "param sink := barcelona;\n",
    "param: capacity :=\n",
    "madrid cuenca 10\n",
    "madrid zaragoza 30\n",
    "madrid logrono 10\n",
    "cuenca valencia 15\n",
    "cuenca castellon 8\n",
    "cuenca teruel 4\n",
    "zaragoza lerida 12\n",
    "zaragoza huesca 9\n",
    "zaragoza barcelona 20\n",
    "logrono pamplona 7\n",
    "logrono bilbao 13\n",
    "valencia castellon 13\n",
    "castellon tarragona 12\n",
    "teruel tarragona 5\n",
    "teruel zaragoza 6\n",
    "lerida barcelona 14\n",
    "huesca lerida 8\n",
    "huesca barcelona 6\n",
    "pamplona huesca 9\n",
    "bilbao pamplona 11\n",
    "bilbao sansebastian 4\n",
    "tarragona lerida 13\n",
    "tarragona barcelona 7\n",
    "sansebastian pamplona 3\n",
    ";\n"
   ]
  },
  {
   "cell_type": "markdown",
   "id": "3ec6922a-18f2-4689-8ca0-b882c43ae4d9",
   "metadata": {},
   "source": [
    "### Model"
   ]
  },
  {
   "cell_type": "code",
   "execution_count": 3,
   "id": "8218da6f-04c3-4ec9-8bfb-2922bfd3a881",
   "metadata": {},
   "outputs": [
    {
     "name": "stdout",
     "output_type": "stream",
     "text": [
      "Overwriting hw2.py\n"
     ]
    }
   ],
   "source": [
    "%%writefile hw2.py\n",
    "\n",
    "from pyomo.environ import *\n",
    "\n",
    "model = AbstractModel()\n",
    "\n",
    "## Nodes in the network\n",
    "model.N = Set() # there are 14 (0-13)\n",
    "## Network arcs\n",
    "model.A = Set(within = model.N*model.N)  # there are 24\n",
    "\n",
    "## Source node\n",
    "model.source = Param(within = model.N) # it is node 0 \n",
    "## Sink node \n",
    "model.sink = Param(within = model.N) # it is node 13 \n",
    "## Flow capacity limits\n",
    "model.capacity = Param(model.A) # we cannot exceed these flow capacity limits\n",
    "\n",
    "'Define decision variables'\n",
    "\n",
    "# Number of decision variables = number of routes. In our case, we have 24 routes. This means that we have 24 decision variables\n",
    "model.flow = Var(model.A, within=NonNegativeReals) # model.A contains all routes in an ordered way \n",
    "\n",
    "'Objective'\n",
    "# Maximize the flow into the sink node\n",
    "def obj(model):\n",
    "    return sum(model.flow[i,j] for (i, j) in model.A if j == value(model.sink))\n",
    "model.total = Objective(rule=obj, sense=maximize)\n",
    "\n",
    "'Constraints'\n",
    "def upper_limit(model, i, j): # capacity constraint\n",
    "    return model.flow[i,j] <= model.capacity[i, j]\n",
    "model.limit = Constraint(model.A, rule=upper_limit)\n",
    "\n",
    "def total_flow_rule(model, k): # flow in = flow out\n",
    "    if k == value(model.source) or k == value(model.sink):\n",
    "        return Constraint.Skip \n",
    "    \n",
    "    inFlow  = sum(model.flow[i,j] for (i,j) in model.A if j == k)\n",
    "    outFlow = sum(model.flow[i,j] for (i,j) in model.A if i == k)\n",
    "    return inFlow == outFlow\n",
    "model.flow_rule = Constraint(model.N, rule=total_flow_rule)"
   ]
  },
  {
   "cell_type": "markdown",
   "id": "a72609b4-acb5-47fa-8eb2-b98e2d51dc94",
   "metadata": {},
   "source": [
    "## 3. Solving the problem"
   ]
  },
  {
   "cell_type": "code",
   "execution_count": 4,
   "id": "2c2b691e-4e55-441e-b14e-4630afa47220",
   "metadata": {},
   "outputs": [
    {
     "name": "stdout",
     "output_type": "stream",
     "text": [
      "[    0.00] Setting up Pyomo environment\n",
      "[    0.00] Applying Pyomo preprocessing actions\n",
      "[    0.01] Creating model\n",
      "[    0.03] Applying solver\n",
      "[    0.32] Processing results\n",
      "    Number of solutions: 1\n",
      "    Solution Information\n",
      "      Gap: 0.0\n",
      "      Status: feasible\n",
      "      Function Value: 47.0\n",
      "    Solver results file: results.yml\n",
      "[    0.32] Applying Pyomo postprocessing actions\n",
      "[    0.32] Pyomo Finished\n",
      "errorcode: 0\n",
      "retval:\n",
      "    instance: <pyomo.core.base.PyomoModel.ConcreteModel object at 0x7fc6de5d7970>\n",
      "    local:\n",
      "        time_initial_import: 0.0048215389251708984\n",
      "        usermodel: <module 'hw2' from '/home/jovyan/hw2.py'>\n",
      "    options: <pyomo.common.config.ConfigDict object at 0x7fc6dd715a80>\n",
      "    results: {'Problem': [{'Name': 'unknown', 'Lower bound': 47.0, 'Upper bound': 47.0, 'Number of objectives': 1, 'Number of constraints': 37, 'Number of variables': 25, 'Number of nonzeros': 66, 'Sense': 'maximize'}], 'Solver': [{'Status': 'ok', 'Termination condition': 'optimal', 'Statistics': {'Branch and bound': {'Number of bounded subproblems': 0, 'Number of created subproblems': 0}}, 'Error rc': 0, 'Time': 0.031423091888427734}], 'Solution': [OrderedDict([('number of solutions', 1), ('number of solutions displayed', 1)]), {'Gap': 0.0, 'Status': 'feasible', 'Message': None, 'Problem': {}, 'Objective': {'total': {'Value': 47.0}}, 'Variable': {'flow[madrid,cuenca]': {'Value': 10.0}, 'flow[madrid,zaragoza]': {'Value': 28.0}, 'flow[madrid,logrono]': {'Value': 9.0}, 'flow[cuenca,valencia]': {'Value': 0.0}, 'flow[cuenca,castellon]': {'Value': 7.0}, 'flow[cuenca,teruel]': {'Value': 3.0}, 'flow[zaragoza,lerida]': {'Value': 11.0}, 'flow[zaragoza,huesca]': {'Value': 0.0}, 'flow[zaragoza,barcelona]': {'Value': 20.0}, 'flow[logrono,pamplona]': {'Value': 0.0}, 'flow[logrono,bilbao]': {'Value': 9.0}, 'flow[valencia,castellon]': {'Value': 0.0}, 'flow[castellon,tarragona]': {'Value': 7.0}, 'flow[teruel,tarragona]': {'Value': 0.0}, 'flow[teruel,zaragoza]': {'Value': 3.0}, 'flow[lerida,barcelona]': {'Value': 14.0}, 'flow[huesca,lerida]': {'Value': 3.0}, 'flow[huesca,barcelona]': {'Value': 6.0}, 'flow[pamplona,huesca]': {'Value': 9.0}, 'flow[bilbao,pamplona]': {'Value': 9.0}, 'flow[bilbao,sansebastian]': {'Value': 0.0}, 'flow[tarragona,lerida]': {'Value': 0.0}, 'flow[tarragona,barcelona]': {'Value': 7.0}, 'flow[sansebastian,pamplona]': {'Value': 0.0}}, 'Constraint': {}}]}\n"
     ]
    }
   ],
   "source": [
    "!pyomo solve --solver=glpk hw2.py hw2.dat"
   ]
  },
  {
   "cell_type": "markdown",
   "id": "43863985-1b89-41a9-ba03-b3220492e5f6",
   "metadata": {},
   "source": [
    "### Displaying the solution"
   ]
  },
  {
   "cell_type": "code",
   "execution_count": 5,
   "id": "2019fc28-c0ec-4fe5-b5e6-75bf00cdde06",
   "metadata": {},
   "outputs": [
    {
     "name": "stdout",
     "output_type": "stream",
     "text": [
      "# ==========================================================\n",
      "# = Solver Results                                         =\n",
      "# ==========================================================\n",
      "# ----------------------------------------------------------\n",
      "#   Problem Information\n",
      "# ----------------------------------------------------------\n",
      "Problem: \n",
      "- Name: unknown\n",
      "  Lower bound: 47.0\n",
      "  Upper bound: 47.0\n",
      "  Number of objectives: 1\n",
      "  Number of constraints: 37\n",
      "  Number of variables: 25\n",
      "  Number of nonzeros: 66\n",
      "  Sense: maximize\n",
      "# ----------------------------------------------------------\n",
      "#   Solver Information\n",
      "# ----------------------------------------------------------\n",
      "Solver: \n",
      "- Status: ok\n",
      "  Termination condition: optimal\n",
      "  Statistics: \n",
      "    Branch and bound: \n",
      "      Number of bounded subproblems: 0\n",
      "      Number of created subproblems: 0\n",
      "  Error rc: 0\n",
      "  Time: 0.031423091888427734\n",
      "# ----------------------------------------------------------\n",
      "#   Solution Information\n",
      "# ----------------------------------------------------------\n",
      "Solution: \n",
      "- number of solutions: 1\n",
      "  number of solutions displayed: 1\n",
      "- Gap: 0.0\n",
      "  Status: feasible\n",
      "  Message: None\n",
      "  Objective:\n",
      "    total:\n",
      "      Value: 47\n",
      "  Variable:\n",
      "    flow[bilbao,pamplona]:\n",
      "      Value: 9\n",
      "    flow[castellon,tarragona]:\n",
      "      Value: 7\n",
      "    flow[cuenca,castellon]:\n",
      "      Value: 7\n",
      "    flow[cuenca,teruel]:\n",
      "      Value: 3\n",
      "    flow[huesca,barcelona]:\n",
      "      Value: 6\n",
      "    flow[huesca,lerida]:\n",
      "      Value: 3\n",
      "    flow[lerida,barcelona]:\n",
      "      Value: 14\n",
      "    flow[logrono,bilbao]:\n",
      "      Value: 9\n",
      "    flow[madrid,cuenca]:\n",
      "      Value: 10\n",
      "    flow[madrid,logrono]:\n",
      "      Value: 9\n",
      "    flow[madrid,zaragoza]:\n",
      "      Value: 28\n",
      "    flow[pamplona,huesca]:\n",
      "      Value: 9\n",
      "    flow[tarragona,barcelona]:\n",
      "      Value: 7\n",
      "    flow[teruel,zaragoza]:\n",
      "      Value: 3\n",
      "    flow[zaragoza,barcelona]:\n",
      "      Value: 20\n",
      "    flow[zaragoza,lerida]:\n",
      "      Value: 11\n",
      "  Constraint: No values\n"
     ]
    }
   ],
   "source": [
    "!cat results.yml"
   ]
  },
  {
   "cell_type": "markdown",
   "id": "9f5554d0-4e73-48d1-9c06-3df0ec1e296c",
   "metadata": {},
   "source": [
    "### Showing flows"
   ]
  },
  {
   "cell_type": "code",
   "execution_count": 6,
   "id": "cd8e56bc-4aa7-4881-b8f9-cbf8ae46aa0a",
   "metadata": {},
   "outputs": [
    {
     "name": "stdout",
     "output_type": "stream",
     "text": [
      "9\n",
      "7\n",
      "7\n",
      "3\n",
      "6\n",
      "3\n",
      "14\n",
      "9\n",
      "10\n",
      "9\n",
      "28\n",
      "9\n",
      "7\n",
      "3\n",
      "20\n",
      "11\n"
     ]
    }
   ],
   "source": [
    "import yaml\n",
    "with open('results.yml') as f:\n",
    "    doc = yaml.load(f,Loader=yaml.FullLoader)\n",
    "    l1 = doc[\"Solution\"][1][\"Variable\"]\n",
    "    l1 = list(l1.items())\n",
    "    \n",
    "# positive flows:    \n",
    "for i in l1:\n",
    "    print(i[1][\"Value\"])\n"
   ]
  },
  {
   "cell_type": "markdown",
   "id": "0c7e0337-cd97-4a40-abb0-15eddd296c81",
   "metadata": {},
   "source": [
    "## 4. Interpretation"
   ]
  },
  {
   "cell_type": "markdown",
   "id": "221791ce-33ae-44d0-b135-69a7c40e991b",
   "metadata": {},
   "source": [
    "As we can see from the results above, we obtained the following solution regarding the flow of trucks per hour for each different route between cities in order to transport the maximum amounts of vaccines from Madrid to Barcelona:\n",
    "\n",
    "| Route | Max Flow solution | Capacity\n",
    "| --- | --- | --- |\n",
    "| Madrid -> Cuenca | 10 | 10 |\n",
    "| Madrid -> Zaragoza | 28 | 30 |\n",
    "| Madrid -> Logroño | 9 | 10 |\n",
    "| Cuenca -> Valencia | 0 | 15 |\n",
    "| Cuenca -> Castellon | 7 | 8 |\n",
    "| Cuenca -> Teruel | 3 | 4 |\n",
    "| Zaragoza -> Lerida | 11 | 12 |\n",
    "| Zaragoza -> Huesca | 0 | 9 |\n",
    "| Zaragoza -> Barcelona | 20 | 20 |\n",
    "| Logroño -> Pamplona | 0 | 7 |\n",
    "| Logroño -> Bilbao | 9 | 13 |\n",
    "| Valencia -> Castellon | 0 | 13 |\n",
    "| Castellon -> Tarragona | 7 | 12 |\n",
    "| Teruel -> Tarragona | 0 | 5 |\n",
    "| Teruel -> Zaragoza | 3 | 6 |\n",
    "| Lerida -> Barcelona | 14 | 14 |\n",
    "| Huesca -> Lerida | 3 | 8 |\n",
    "| Huesca -> Barcelona | 6 | 6 |\n",
    "| Pamplona -> Huesca | 9 | 9 |\n",
    "| Bilbao -> Pamplona | 9 | 11 |\n",
    "| Bilbao -> San Sebastian | 0 | 4 |\n",
    "| Tarragona -> Lerida | 0 | 13 |\n",
    "| Tarragona -> Barcelona | 7 | 7 |\n",
    "| San Sebastian -> Pamplona | 0 | 3 |"
   ]
  },
  {
   "cell_type": "markdown",
   "id": "e5562119-f64f-4cc3-ac4a-cdb165b06840",
   "metadata": {},
   "source": [
    "We can see that some routes got no trucks, some got less than their capacity, and some got their full capacity.\n",
    "\n",
    "We obtained a **feasible solution** and its **value is 47**, meaning we would have 47 trucks on their way from Madrid to Barcelona through these routes."
   ]
  },
  {
   "cell_type": "markdown",
   "id": "7178bef3-73c5-42d6-92fc-73ce8c63265d",
   "metadata": {},
   "source": [
    "---------------------------------------------------------------------------------------------------------"
   ]
  },
  {
   "cell_type": "markdown",
   "id": "a7103c7c-fd43-404d-adb2-56b1b01633ec",
   "metadata": {},
   "source": [
    "## 1. STATEMENT - NON-LINEAR PROBLEM"
   ]
  },
  {
   "cell_type": "markdown",
   "id": "809af6f4-1497-4b26-9161-ca9ee478156b",
   "metadata": {},
   "source": [
    "An investor has €5000 to invest and two potential investments.\n",
    "\n",
    "From historical data, investment 1 has an expected return of 20 percent, while investment 2 has an expected return of 16 percent.\n",
    "\n",
    "The total risk involved with both statements if given by: $2x_1^2 + x_2^2 + (x_1 + x_2)^2$, the variance of total return.\n",
    "\n",
    "The investor would like to maximize his expected return and at the same time minimize his risk.\n",
    "\n",
    "That is why we take into account $\\Theta$, which represents the tradeoff between risk and return. If $\\Theta = 0$, he would invest completely in the investment with greater expected return. However, for very large $\\Theta$, he would essentially be minimizing the risk."
   ]
  },
  {
   "cell_type": "markdown",
   "id": "7c12dddb-de5e-4c8d-8ed9-b8440c550baf",
   "metadata": {},
   "source": [
    "### Parameters"
   ]
  },
  {
   "cell_type": "markdown",
   "id": "56ebea9e-e4db-449b-a886-2d6a21f491fa",
   "metadata": {},
   "source": [
    "$d_1 = 20$ is the expected annual return for investment 1\n",
    "\n",
    "$d_2 = 16$ is the expected annual return for investment 2\n",
    "\n",
    "$\\Theta = 1$ is the chosen value for the tradeoff between risk and return\n",
    "\n",
    "$budget = 5$ is the budget in thousands of euros"
   ]
  },
  {
   "cell_type": "markdown",
   "id": "5b794261-3d71-4b7e-9252-2087f65606df",
   "metadata": {},
   "source": [
    "### Variables\n",
    "\n",
    " $x_i$ = investments,    $i = 1,2$"
   ]
  },
  {
   "cell_type": "markdown",
   "id": "c514d160-d52f-4828-aab6-902a5fbda99a",
   "metadata": {},
   "source": [
    "### Objective and Constraints"
   ]
  },
  {
   "cell_type": "markdown",
   "id": "d94c79bb-e760-4a93-9818-52c3222f7783",
   "metadata": {},
   "source": [
    "Objective: $\\max f(x)=d_1x_1 + d_2x_2 + \\Theta[2x_1^2 + x_2^2 + (x_1 + x_2)^2]$\n",
    "\n",
    "subject to: $x_1 + x_2 <= budget$\n",
    "\n",
    "and $x_1 >= 0$,  $x_2 >= 0$"
   ]
  },
  {
   "cell_type": "markdown",
   "id": "4a3dd730-c4e1-456a-afd0-08c10d3325c1",
   "metadata": {},
   "source": [
    "## 2. Formulating the problem"
   ]
  },
  {
   "cell_type": "code",
   "execution_count": 7,
   "id": "2a8e57fa-40f3-4965-adc8-931c389d3af9",
   "metadata": {},
   "outputs": [],
   "source": [
    "from pyomo.environ import *\n",
    "\n",
    "d1 = 20 # expected annual return for investment 1\n",
    "d2 = 16 # expected annual return for investment 2\n",
    "theta = 1 # represents tradeoff between risk and return\n",
    "budget = 5 # budget in thousands of euros\n",
    "\n",
    "m = ConcreteModel()\n",
    "\n",
    "m.x1 = Var(within=NonNegativeReals)\n",
    "m.x2 = Var(within=NonNegativeReals)\n",
    "\n",
    "m.objective = Objective(expr = d1*m.x1 + d2*m.x2 - theta*(2*m.x1**2 + m.x2**2 + (m.x1 + m.x2)**2), sense=maximize)\n",
    "\n",
    "m.cons = Constraint(expr = m.x1 + m.x2 <= budget)"
   ]
  },
  {
   "cell_type": "markdown",
   "id": "5e3ddf00-3fe5-42bc-be03-6c05d132a7c4",
   "metadata": {},
   "source": [
    "## 3. Solving the problem"
   ]
  },
  {
   "cell_type": "code",
   "execution_count": 8,
   "id": "d5113fbf-aee1-46f4-a83f-f0e74e6bb8b6",
   "metadata": {},
   "outputs": [
    {
     "name": "stdout",
     "output_type": "stream",
     "text": [
      "x1 = 2333.333348752249 euros on investment 1\n",
      "x2 = 2666.6666974372774 euros on investment 2\n",
      "dual : Direction=Suffix.IMPORT, Datatype=Suffix.FLOAT\n",
      "    Key  : Value\n",
      "    cons : 0.6666665136855413\n"
     ]
    }
   ],
   "source": [
    "# obtain the solution \n",
    "solver = SolverFactory(\"ipopt\") # define the solver\n",
    "m.dual = Suffix(direction=Suffix.IMPORT)\n",
    "solution = solver.solve(m) # solve\n",
    "\n",
    "# Display solution\n",
    "print('x1 =',m.x1()*1000, 'euros on investment 1')\n",
    "print('x2 =',m.x2()*1000, 'euros on investment 2')\n",
    "\n",
    "# Display lagrange multipliers\n",
    "display(m.dual)"
   ]
  },
  {
   "cell_type": "markdown",
   "id": "62b70fe7-2660-4daa-8726-1f4b30969bb5",
   "metadata": {},
   "source": [
    "## 4. Interpretation"
   ]
  },
  {
   "cell_type": "markdown",
   "id": "74f85006-a050-4189-8a63-f9c01fa7e36a",
   "metadata": {},
   "source": [
    "As we can see from the results above, by using $\\Theta = 1$, we would be investing the following amount of money:\n",
    "- 2333.3€ on investment 1 \n",
    "- 2666.6€ on investment 2\n",
    "\n",
    "By doing this, we are obtaining an 18% of benefits after a year, around 890€. We are maximizing returns while taking seriously into account the risk, this is why we are not investing everything on investment 1.\n",
    "\n",
    "If we changed the value of $\\Theta$, we would get a different result for each investment, based on our desire to maximize returns or minimize risks."
   ]
  },
  {
   "cell_type": "markdown",
   "id": "68929f2c-7c79-4ca4-b7f5-8163088c9962",
   "metadata": {},
   "source": [
    "## 5. References"
   ]
  },
  {
   "cell_type": "markdown",
   "id": "ebca5a27-db1e-469d-81e6-88464ba6883b",
   "metadata": {},
   "source": [
    "I got inspired from this book in order to construct the non-linear problem solved above:\n",
    "\n",
    "https://web.mit.edu/15.053/www/AMP-Chapter-13.pdf (page 2)"
   ]
  }
 ],
 "metadata": {
  "kernelspec": {
   "display_name": "Python 3 (ipykernel)",
   "language": "python",
   "name": "python3"
  },
  "language_info": {
   "codemirror_mode": {
    "name": "ipython",
    "version": 3
   },
   "file_extension": ".py",
   "mimetype": "text/x-python",
   "name": "python",
   "nbconvert_exporter": "python",
   "pygments_lexer": "ipython3",
   "version": "3.10.5"
  }
 },
 "nbformat": 4,
 "nbformat_minor": 5
}
